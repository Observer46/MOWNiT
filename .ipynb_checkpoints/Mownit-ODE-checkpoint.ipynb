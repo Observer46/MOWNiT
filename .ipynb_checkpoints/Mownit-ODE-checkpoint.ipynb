{
 "cells": [
  {
   "cell_type": "markdown",
   "metadata": {},
   "source": [
    "# Równania różniczkowe zwyczajne\n"
   ]
  },
  {
   "cell_type": "markdown",
   "metadata": {},
   "source": [
    "<h3> Przydatne linki: </h3>\n",
    "\n",
    "* Układ Lorenza: https://en.wikipedia.org/wiki/Lorenz_system\n",
    "* Metoda Eulera: http://tutorial.math.lamar.edu/Classes/DE/EulersMethod.aspx\n",
    "* Backward Euler: https://en.wikipedia.org/wiki/Backward_Euler_method\n",
    "* Metoda Rungego-Kutty (4-th order): https://en.wikipedia.org/wiki/Runge–Kutta_methods#Common_fourth-order_Runge.E2.80.93Kutta_method \n",
    "* boost-odeint : https://www.boost.org/doc/libs/1_66_0/libs/numeric/odeint/doc/html/index.html\n",
    " \n",
    "<h3> Krótki wstęp </h3>\n",
    "\n",
    "Mamy następujący układ trzech ODE:\n",
    "\n",
    "${\\begin{cases}{\\dot  x}=\\sigma y-\\sigma x\\\\{\\dot  y}=-xz+rx-y\\\\{\\dot  z}=xy-bz\\end{cases}}$\n",
    " \n",
    "Układ Lorenza (bo takowy widnieje powyżej) został przez niego stworzony z myślą modelowania konwekcji termicznej w atmosferze. To co jest ciekawe w tym układzie i co będzie Nas interesowało na tych zajęciach to fakt, że dla pewnego zbioru parametrów układ ten zachowuje się chaotycznie. Wykres zmiennych w przestrzeni fazowej przedstawia tzw. atraktor Lorenza (poniżej).\n",
    "\n",
    "![image.png](https://upload.wikimedia.org/wikipedia/commons/2/25/LorenzAttractor.png)\n",
    "\n",
    "Jak łatwo się domyślić - celem tego laboratorium będzie implementacja metod rozwiązywania ODE, które umożliwią wizualizacje powyższego atraktora. \n",
    "\n",
    "Opisy poszczególnych metod znajdują się w linkach podanych w pierwszej sekcji instrukcji oraz w wykładach (nie streszczałem Wam tego, gdyż w linkach podanych przeze mnie jest dość szczegółowo - bez zbędnych wywodów matematycznych etc.)"
   ]
  },
  {
   "cell_type": "markdown",
   "metadata": {},
   "source": [
    "<h3> Zadania </h3>\n"
   ]
  },
  {
   "cell_type": "markdown",
   "metadata": {},
   "source": [
    "**Zadanie 1**\n",
    "Proszę zapoznać się z materiałami załączonymi do tego laboratorium (zwłaszcza z opisami metod!).\n",
    "\n",
    "**Zadanie 2** \n",
    "Proszę wykonać implementacje następujących metod rozwiązywania równań różniczkowych:\n",
    "- metoda Eulera,\n",
    "- modyfikacja metody Eulera (ang. Backward Euler method),\n",
    "- metoda Rungego-Kutty 1 rzędu (It's a trap!),\n",
    "- metoda Rungego-Kutty 2 rzędu (ang. midpoint method),\n",
    "- metoda Rungego-Kutty 4 rzędu,\n",
    "\n",
    "Za ich pomocą rozwiązać opisany powyżej układ równań. Wynik wyliczeń kolejnych kroków proszę przedstawić na wykresie (powinno się otrzymać powyższy atraktor). Środowisko i język tworzenia wykresu jest dowolny.\n",
    "\n",
    "**Zadanie 3** \n",
    "Proszę dokonać porównania **teoretycznego** wszystkich powyższych metod. \n",
    "\n",
    "**Zadanie 4** \n",
    "Dane jest równanie różniczkowe (zagadnienie początkowe):\n",
    "\n",
    "$y^{'} - kmysin(mx) = k^{2}msin(mx)cos(mx),  \\hspace{1cm} y(x_{0})=a$\n",
    "\n",
    "$x_{0}, x{k}, m, k$ - parametry zadawane, $a$ - wyliczane z rozwiązania dokładnego (poniżej).\n",
    "Znaleźć rozwiązanie tego zagadnienia y(x) w przedziale $[x_{0}, x_{k}]$ metodą Eulera oraz metodą Rungego-Kutty. Eksperyment przeprowadzić dla różnej ilości kroków.\n",
    "\n",
    "Porównać otrzymane rozwiązanie z rozwiązaniem dokładnym: $y(x) = e^{-kcos(mx)} - kcos(mx) + 1$\n",
    "\n",
    "Stosownie przedstaw wyniki wybranych rozwiązań.\n",
    "\n",
    "**Zadanie 5** (dla chętnych, żeby poznać bibliotekę boost)\n",
    "Proszę rozwiązać układ Lorenza korzystając z funkcjonalności biblioteki **boost** (oficjalna dokumentacja i opis metod - https://www.boost.org).\n"
   ]
  },
  {
   "cell_type": "code",
   "execution_count": null,
   "metadata": {},
   "outputs": [],
   "source": []
  }
 ],
 "metadata": {
  "kernelspec": {
   "display_name": "C++14",
   "language": "C++14",
   "name": "xcpp14"
  },
  "language_info": {
   "codemirror_mode": "text/x-c++src",
   "file_extension": ".cpp",
   "mimetype": "text/x-c++src",
   "name": "c++",
   "version": "14"
  }
 },
 "nbformat": 4,
 "nbformat_minor": 2
}
