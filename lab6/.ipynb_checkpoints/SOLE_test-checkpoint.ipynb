{
 "cells": [
  {
   "cell_type": "markdown",
   "metadata": {},
   "source": [
    "## Przykladowe uklady rownan"
   ]
  },
  {
   "cell_type": "code",
   "execution_count": 5,
   "metadata": {},
   "outputs": [],
   "source": [
    "import numpy as np"
   ]
  },
  {
   "cell_type": "code",
   "execution_count": 15,
   "metadata": {},
   "outputs": [
    {
     "name": "stdout",
     "output_type": "stream",
     "text": [
      "[[0.71428571]\n",
      " [0.42857143]]\n"
     ]
    },
    {
     "data": {
      "text/plain": [
       "True"
      ]
     },
     "execution_count": 15,
     "metadata": {},
     "output_type": "execute_result"
    }
   ],
   "source": [
    "A = np.matrix([[3.0, 2.0],\n",
    "               [-1.0, 4.0]])\n",
    "\n",
    "b = np.matrix([3.0, 1.0]).transpose()\n",
    "\n",
    "x = np.linalg.solve(A, b)\n",
    "print(x)\n",
    "np.allclose(np.dot(A, x), b)"
   ]
  },
  {
   "cell_type": "code",
   "execution_count": 16,
   "metadata": {},
   "outputs": [
    {
     "name": "stdout",
     "output_type": "stream",
     "text": [
      "[[0.10532475]\n",
      " [0.21123464]\n",
      " [0.05090696]]\n"
     ]
    },
    {
     "data": {
      "text/plain": [
       "True"
      ]
     },
     "execution_count": 16,
     "metadata": {},
     "output_type": "execute_result"
    }
   ],
   "source": [
    "A = np.matrix([[5.0, 2.0, 1.0],\n",
    "               [-3.0, 10.0, 4.0],\n",
    "               [20.0, -3.0, 30.0]\n",
    "              ])\n",
    "\n",
    "b = np.matrix([1.0, 2.0, 3.0]).transpose()\n",
    "\n",
    "x = np.linalg.solve(A, b)\n",
    "print(x)\n",
    "np.allclose(np.dot(A, x), b)"
   ]
  },
  {
   "cell_type": "code",
   "execution_count": 17,
   "metadata": {},
   "outputs": [
    {
     "name": "stdout",
     "output_type": "stream",
     "text": [
      "[[0.0621367 ]\n",
      " [1.13490999]\n",
      " [0.85996625]]\n"
     ]
    },
    {
     "data": {
      "text/plain": [
       "True"
      ]
     },
     "execution_count": 17,
     "metadata": {},
     "output_type": "execute_result"
    }
   ],
   "source": [
    "A = np.matrix([[13.5, 5.3, -3.9],\n",
    "               [2.9, 7.1, 1.7],\n",
    "               [1.1, -4.7, 8.1]\n",
    "              ])\n",
    "\n",
    "b = np.matrix([3.5, 9.7, 1.7]).transpose()\n",
    "\n",
    "x = np.linalg.solve(A, b)\n",
    "print(x)\n",
    "np.allclose(np.dot(A, x), b)"
   ]
  },
  {
   "cell_type": "code",
   "execution_count": 18,
   "metadata": {},
   "outputs": [
    {
     "name": "stdout",
     "output_type": "stream",
     "text": [
      "[[ 0.89204135]\n",
      " [-0.25287977]\n",
      " [ 1.159119  ]]\n"
     ]
    },
    {
     "data": {
      "text/plain": [
       "True"
      ]
     },
     "execution_count": 18,
     "metadata": {},
     "output_type": "execute_result"
    }
   ],
   "source": [
    "A = np.matrix([[10.23, 2.21, 3.54],\n",
    "               [3.69, 15.72, 8.13],\n",
    "               [-6.93, 1.45, 12.12]\n",
    "              ])\n",
    "\n",
    "b = np.matrix([12.67, 8.74, 7.5]).transpose()\n",
    "\n",
    "x = np.linalg.solve(A, b)\n",
    "print(x)\n",
    "np.allclose(np.dot(A, x), b)"
   ]
  },
  {
   "cell_type": "code",
   "execution_count": 20,
   "metadata": {},
   "outputs": [
    {
     "name": "stdout",
     "output_type": "stream",
     "text": [
      "[[-0.04385187]\n",
      " [-0.05742467]\n",
      " [ 1.20226979]\n",
      " [ 0.74622622]]\n"
     ]
    },
    {
     "data": {
      "text/plain": [
       "True"
      ]
     },
     "execution_count": 20,
     "metadata": {},
     "output_type": "execute_result"
    }
   ],
   "source": [
    "A = np.matrix([[80.801, -5.0300, 5.8090, 7.8320],\n",
    "               [6.3159, -100.101,  32.135, -57.985],\n",
    "               [-6.3873, -10.555,  54.43, 22.19],\n",
    "               [5.32, -8.234,  -10.345, 46.4343]])\n",
    "\n",
    "b = np.matrix([9.5740, 7.2190, 5.7300, 6.2910]).transpose()\n",
    "\n",
    "x = np.linalg.solve(A, b)\n",
    "print(x)\n",
    "np.allclose(np.dot(A, x), b)"
   ]
  },
  {
   "cell_type": "code",
   "execution_count": null,
   "metadata": {},
   "outputs": [],
   "source": []
  },
  {
   "cell_type": "code",
   "execution_count": null,
   "metadata": {},
   "outputs": [],
   "source": []
  },
  {
   "cell_type": "code",
   "execution_count": null,
   "metadata": {},
   "outputs": [],
   "source": []
  }
 ],
 "metadata": {
  "kernelspec": {
   "display_name": "Python 3",
   "language": "python",
   "name": "python3"
  },
  "language_info": {
   "codemirror_mode": {
    "name": "ipython",
    "version": 3
   },
   "file_extension": ".py",
   "mimetype": "text/x-python",
   "name": "python",
   "nbconvert_exporter": "python",
   "pygments_lexer": "ipython3",
   "version": "3.8.2"
  }
 },
 "nbformat": 4,
 "nbformat_minor": 4
}
