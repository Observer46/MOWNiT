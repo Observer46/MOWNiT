{
 "cells": [
  {
   "cell_type": "markdown",
   "metadata": {},
   "source": [
    "## Przykladowe uklady rownan"
   ]
  },
  {
   "cell_type": "code",
   "execution_count": 5,
   "metadata": {},
   "outputs": [],
   "source": [
    "import numpy as np"
   ]
  },
  {
   "cell_type": "code",
   "execution_count": 15,
   "metadata": {},
   "outputs": [
    {
     "name": "stdout",
     "output_type": "stream",
     "text": [
      "[[0.71428571]\n",
      " [0.42857143]]\n"
     ]
    },
    {
     "data": {
      "text/plain": [
       "True"
      ]
     },
     "execution_count": 15,
     "metadata": {},
     "output_type": "execute_result"
    }
   ],
   "source": [
    "A = np.matrix([[3.0, 2.0],\n",
    "               [-1.0, 4.0]])\n",
    "\n",
    "b = np.matrix([3.0, 1.0]).transpose()\n",
    "\n",
    "x = np.linalg.solve(A, b)\n",
    "print(x)\n",
    "np.allclose(np.dot(A, x), b)"
   ]
  },
  {
   "cell_type": "code",
   "execution_count": 16,
   "metadata": {},
   "outputs": [
    {
     "name": "stdout",
     "output_type": "stream",
     "text": [
      "[[0.10532475]\n",
      " [0.21123464]\n",
      " [0.05090696]]\n"
     ]
    },
    {
     "data": {
      "text/plain": [
       "True"
      ]
     },
     "execution_count": 16,
     "metadata": {},
     "output_type": "execute_result"
    }
   ],
   "source": [
    "A = np.matrix([[5.0, 2.0, 1.0],\n",
    "               [-3.0, 10.0, 4.0],\n",
    "               [20.0, -3.0, 30.0]\n",
    "              ])\n",
    "\n",
    "b = np.matrix([1.0, 2.0, 3.0]).transpose()\n",
    "\n",
    "x = np.linalg.solve(A, b)\n",
    "print(x)\n",
    "np.allclose(np.dot(A, x), b)"
   ]
  },
  {
   "cell_type": "code",
   "execution_count": 17,
   "metadata": {},
   "outputs": [
    {
     "name": "stdout",
     "output_type": "stream",
     "text": [
      "[[0.0621367 ]\n",
      " [1.13490999]\n",
      " [0.85996625]]\n"
     ]
    },
    {
     "data": {
      "text/plain": [
       "True"
      ]
     },
     "execution_count": 17,
     "metadata": {},
     "output_type": "execute_result"
    }
   ],
   "source": [
    "A = np.matrix([[13.5, 5.3, -3.9],\n",
    "               [2.9, 7.1, 1.7],\n",
    "               [1.1, -4.7, 8.1]\n",
    "              ])\n",
    "\n",
    "b = np.matrix([3.5, 9.7, 1.7]).transpose()\n",
    "\n",
    "x = np.linalg.solve(A, b)\n",
    "print(x)\n",
    "np.allclose(np.dot(A, x), b)"
   ]
  },
  {
   "cell_type": "code",
   "execution_count": 18,
   "metadata": {},
   "outputs": [
    {
     "name": "stdout",
     "output_type": "stream",
     "text": [
      "[[ 0.89204135]\n",
      " [-0.25287977]\n",
      " [ 1.159119  ]]\n"
     ]
    },
    {
     "data": {
      "text/plain": [
       "True"
      ]
     },
     "execution_count": 18,
     "metadata": {},
     "output_type": "execute_result"
    }
   ],
   "source": [
    "A = np.matrix([[10.23, 2.21, 3.54],\n",
    "               [3.69, 15.72, 8.13],\n",
    "               [-6.93, 1.45, 12.12]\n",
    "              ])\n",
    "\n",
    "b = np.matrix([12.67, 8.74, 7.5]).transpose()\n",
    "\n",
    "x = np.linalg.solve(A, b)\n",
    "print(x)\n",
    "np.allclose(np.dot(A, x), b)"
   ]
  },
  {
   "cell_type": "code",
   "execution_count": 21,
   "metadata": {},
   "outputs": [
    {
     "name": "stdout",
     "output_type": "stream",
     "text": [
      "[[ 0.53554466]\n",
      " [-1.81857002]\n",
      " [-0.89756246]\n",
      " [ 1.57645347]]\n"
     ]
    },
    {
     "data": {
      "text/plain": [
       "True"
      ]
     },
     "execution_count": 21,
     "metadata": {},
     "output_type": "execute_result"
    }
   ],
   "source": [
    "A = np.matrix([[80.801, -7.4319, 43.6892, 1.0001],\n",
    "               [6.3159, -100.101,  32.135, -57.985],\n",
    "               [-6.3873, -10.555,  54.43, 22.19],\n",
    "               [5.32, -8.234,  -10.345, 46.4343]])\n",
    "\n",
    "b = np.matrix([19.1508, 65.1693, 1.9015, 100.31]).transpose()\n",
    "\n",
    "x = np.linalg.solve(A, b)\n",
    "print(x)\n",
    "np.allclose(np.dot(A, x), b)"
   ]
  },
  {
   "cell_type": "code",
   "execution_count": 22,
   "metadata": {},
   "outputs": [
    {
     "name": "stdout",
     "output_type": "stream",
     "text": [
      "[[-4.08450234]\n",
      " [ 0.45597077]\n",
      " [ 1.73128357]\n",
      " [ 0.61458646]]\n"
     ]
    },
    {
     "data": {
      "text/plain": [
       "True"
      ]
     },
     "execution_count": 22,
     "metadata": {},
     "output_type": "execute_result"
    }
   ],
   "source": [
    "A = np.matrix([[-61.302, 9.3913, 13.8632, 20.2358],\n",
    "               [14.2962, 94.216,  -26.331, 33.8251],\n",
    "               [6.8313, -5.777,  -24.131, -10.139],\n",
    "               [-7.1, 29.741,  -8.918, 56.9661]])\n",
    "\n",
    "b = np.matrix([291.1081, -40.2311, -78.5455, 62.132]).transpose()\n",
    "\n",
    "x = np.linalg.solve(A, b)\n",
    "print(x)\n",
    "np.allclose(np.dot(A, x), b)"
   ]
  },
  {
   "cell_type": "code",
   "execution_count": 24,
   "metadata": {},
   "outputs": [
    {
     "name": "stdout",
     "output_type": "stream",
     "text": [
      "[[ 0.00287457]\n",
      " [ 0.02939317]\n",
      " [-0.0349511 ]\n",
      " [ 0.03548575]]\n"
     ]
    },
    {
     "data": {
      "text/plain": [
       "True"
      ]
     },
     "execution_count": 24,
     "metadata": {},
     "output_type": "execute_result"
    }
   ],
   "source": [
    "A = np.matrix([[43.01, 5.002, -23.112, 0.9201],\n",
    "               [-17.734, 57.101,  -21.531, -4.445],\n",
    "               [-11.1012, 16.761,  -61.7489, 20.1309],\n",
    "               [-19.993, 42.131,  31.6329, 123.123]])\n",
    "\n",
    "b = np.matrix([1.1111, 2.2222, 3.3333, 4.4444]).transpose()\n",
    "\n",
    "x = np.linalg.solve(A, b)\n",
    "print(x)\n",
    "np.allclose(np.dot(A, x), b)"
   ]
  },
  {
   "cell_type": "code",
   "execution_count": 26,
   "metadata": {},
   "outputs": [
    {
     "name": "stdout",
     "output_type": "stream",
     "text": [
      "[[ 21.3344624 ]\n",
      " [  9.29122727]\n",
      " [-10.66376885]\n",
      " [ 31.47387947]\n",
      " [ 13.24700401]]\n"
     ]
    },
    {
     "data": {
      "text/plain": [
       "True"
      ]
     },
     "execution_count": 26,
     "metadata": {},
     "output_type": "execute_result"
    }
   ],
   "source": [
    "A = np.matrix([[235.167, -57.439, 17.0921, -138.7552, 5.2057],\n",
    "               [-25.3271, 87.9536,  11.3692, 6.4365, -21.1269],\n",
    "               [-13.3378, -37.179,  -91.382, -11.9683, 6.9215],\n",
    "               [1.593, -2.1479,  -14.6703, 38.4833, -8.7849],\n",
    "               [0.5493, -103.275,  53.684, -83.9674, 341.683]\n",
    "              ])\n",
    "\n",
    "b = np.matrix([3.012, 78.3318, 59.4835, 1265.315, 363.19]).transpose()\n",
    "\n",
    "x = np.linalg.solve(A, b)\n",
    "print(x)\n",
    "np.allclose(np.dot(A, x), b)"
   ]
  }
 ],
 "metadata": {
  "kernelspec": {
   "display_name": "Python 3",
   "language": "python",
   "name": "python3"
  },
  "language_info": {
   "codemirror_mode": {
    "name": "ipython",
    "version": 3
   },
   "file_extension": ".py",
   "mimetype": "text/x-python",
   "name": "python",
   "nbconvert_exporter": "python",
   "pygments_lexer": "ipython3",
   "version": "3.8.2"
  }
 },
 "nbformat": 4,
 "nbformat_minor": 4
}
